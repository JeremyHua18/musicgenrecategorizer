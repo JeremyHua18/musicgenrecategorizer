{
 "cells": [
  {
   "cell_type": "code",
   "execution_count": 30,
   "metadata": {},
   "outputs": [],
   "source": [
    "import thecypher as cy\n",
    "import urllib.request as urllib2\n",
    "from bs4 import BeautifulSoup\n",
    "import pandas as pd\n",
    "import re\n",
    "from unidecode import unidecode\n",
    "import re\n",
    "from urllib.request import urlopen\n",
    "import requests\n",
    "import time\n",
    "import lyricsgenius\n",
    "from bs4 import BeautifulSoup\n",
    "from urllib.request import Request, urlopen\n",
    "import numpy\n",
    "import csv\n",
    "import matplotlib.pyplot as plt\n",
    "import random\n",
    "import seaborn as sns\n",
    "import re\n",
    "import nltk\n",
    "from nltk.corpus import stopwords\n",
    "from nltk.tokenize import word_tokenize\n",
    "import numpy as np\n",
    "import tensorflow as tf\n",
    "import tensorflow_hub as hub\n",
    "import logging\n",
    "from io import StringIO\n",
    "from sklearn.decomposition import PCA\n",
    "from sklearn.feature_extraction.text import TfidfTransformer, TfidfVectorizer\n",
    "from sklearn.feature_extraction.text import CountVectorizer\n",
    "from sklearn.model_selection import train_test_split\n",
    "from sklearn.linear_model import LogisticRegression\n",
    "from sklearn.pipeline import Pipeline\n",
    "from sklearn.metrics.pairwise import cosine_similarity,cosine_distances\n",
    "from sklearn.utils import shuffle\n",
    "from sklearn.model_selection import cross_val_score"
   ]
  },
  {
   "cell_type": "code",
   "execution_count": 26,
   "metadata": {},
   "outputs": [
    {
     "data": {
      "text/html": [
       "<div>\n",
       "<style scoped>\n",
       "    .dataframe tbody tr th:only-of-type {\n",
       "        vertical-align: middle;\n",
       "    }\n",
       "\n",
       "    .dataframe tbody tr th {\n",
       "        vertical-align: top;\n",
       "    }\n",
       "\n",
       "    .dataframe thead th {\n",
       "        text-align: right;\n",
       "    }\n",
       "</style>\n",
       "<table border=\"1\" class=\"dataframe\">\n",
       "  <thead>\n",
       "    <tr style=\"text-align: right;\">\n",
       "      <th></th>\n",
       "      <th>genre</th>\n",
       "      <th>lyrics</th>\n",
       "      <th>genre_id</th>\n",
       "    </tr>\n",
       "  </thead>\n",
       "  <tbody>\n",
       "    <tr>\n",
       "      <th>0</th>\n",
       "      <td>pop</td>\n",
       "      <td>summer high school first would makeout mustang...</td>\n",
       "      <td>0</td>\n",
       "    </tr>\n",
       "    <tr>\n",
       "      <th>1</th>\n",
       "      <td>pop</td>\n",
       "      <td>yeah yeah yeah feel phoenix inside march alone...</td>\n",
       "      <td>0</td>\n",
       "    </tr>\n",
       "    <tr>\n",
       "      <th>2</th>\n",
       "      <td>pop</td>\n",
       "      <td>told dreams started laughin guess mind actuall...</td>\n",
       "      <td>0</td>\n",
       "    </tr>\n",
       "    <tr>\n",
       "      <th>3</th>\n",
       "      <td>pop</td>\n",
       "      <td>lost today would stay could love enough stimul...</td>\n",
       "      <td>0</td>\n",
       "    </tr>\n",
       "    <tr>\n",
       "      <th>4</th>\n",
       "      <td>pop</td>\n",
       "      <td>nice legs daisy dukes makes go way like lowcut...</td>\n",
       "      <td>0</td>\n",
       "    </tr>\n",
       "  </tbody>\n",
       "</table>\n",
       "</div>"
      ],
      "text/plain": [
       "  genre                                             lyrics  genre_id\n",
       "0   pop  summer high school first would makeout mustang...         0\n",
       "1   pop  yeah yeah yeah feel phoenix inside march alone...         0\n",
       "2   pop  told dreams started laughin guess mind actuall...         0\n",
       "3   pop  lost today would stay could love enough stimul...         0\n",
       "4   pop  nice legs daisy dukes makes go way like lowcut...         0"
      ]
     },
     "execution_count": 26,
     "metadata": {},
     "output_type": "execute_result"
    }
   ],
   "source": [
    "df = pd.read_csv(\"data.csv\")\n",
    "df.head()\n",
    "df = df[pd.notnull(df['lyrics'])]\n",
    "\n",
    "col = ['genre', 'lyrics']\n",
    "df = df[col]\n",
    "\n",
    "df.columns = ['genre', 'lyrics']\n",
    "df['genre_id'] = df['genre'].factorize()[0]\n",
    "\n",
    "genre_id_df = df[['genre', 'genre_id']].drop_duplicates().sort_values('genre_id')\n",
    "genre_to_id = dict(genre_id_df.values)\n",
    "id_to_genre = dict(genre_id_df[['genre_id', 'genre']].values)\n",
    "\n",
    "df.head()\n",
    "\n",
    "# df_wordCount.dropna(\n",
    "#     axis=0,\n",
    "#     how='any',\n",
    "#     thresh=None,\n",
    "#     subset=None,\n",
    "#     inplace=True\n",
    "# )\n",
    "\n",
    "# genres = ['pop','death-metal','rock','r&b/soul','hip-hop/rap','alternative','metal','punk','pop/rock',]\n",
    "\n",
    "\n",
    "# N = 200 # number of records to pull from each genre\n",
    "# RANDOM_SEED = 200 # random seed to make results repeatable\n",
    "\n",
    "# train_df = pd.DataFrame()\n",
    "# test_df = pd.DataFrame()\n",
    "# for g in genres: # loop over each genre\n",
    "#     subset = df_wordCount[df_wordCount.genre == g] # create subset\n",
    "#     print(len(subset))\n",
    "#     train_set = subset.sample(n=N, random_state=RANDOM_SEED)\n",
    "#     test_set = subset.drop(train_set.index)\n",
    "#     train_df = train_df.append(train_set) # append subsets to the master sets\n",
    "#     test_df = test_df.append(test_set)"
   ]
  },
  {
   "cell_type": "code",
   "execution_count": 27,
   "metadata": {},
   "outputs": [
    {
     "data": {
      "text/plain": [
       "(3288, 8642)"
      ]
     },
     "execution_count": 27,
     "metadata": {},
     "output_type": "execute_result"
    }
   ],
   "source": [
    "# # define our model\n",
    "# wordCount_clf = Pipeline(\n",
    "#     [('vect', CountVectorizer()),\n",
    "#      ('clf', LogisticRegression(random_state=0))])\n",
    "\n",
    "# # train our model on training data\n",
    "# wordCount_clf.fit(train_df.lyrics, train_df.genre)  \n",
    "\n",
    "# # score our model on testing data\n",
    "# predicted = wordCount_clf.predict(test_df.lyrics)\n",
    "# print(np.mean(predicted == test_df.genre))\n",
    "\n",
    "train_df = shuffle(train_df)\n",
    "test_df = shuffle(test_df)\n",
    "\n",
    "tfidf = TfidfVectorizer(sublinear_tf=True, min_df=5, norm='l2', encoding='latin-1', ngram_range=(1, 2), stop_words='english')\n",
    "\n",
    "features = tfidf.fit_transform(df.lyrics).toarray()\n",
    "labels = df.genre_id\n",
    "features.shape"
   ]
  },
  {
   "cell_type": "code",
   "execution_count": 29,
   "metadata": {},
   "outputs": [],
   "source": [
    "# # define our model\n",
    "# text_clf = Pipeline(\n",
    "#     [('vect', TfidfVectorizer()),\n",
    "#      ('clf', LogisticRegression(random_state=0))])\n",
    "\n",
    "# # train our model on training data\n",
    "# text_clf.fit(train_df.lyrics, train_df.genre)  \n",
    "\n",
    "# # core our model on testing data\n",
    "# predicted = text_clf.predict(test_df.lyrics)\n",
    "# np.mean(predicted == test_df.genre)\n",
    "X_train, X_test, y_train, y_test = train_test_split(df['lyrics'], df['genre'], random_state = 0)\n",
    "count_vect = CountVectorizer()\n",
    "X_train_counts = count_vect.fit_transform(X_train)\n",
    "tfidf_transformer = TfidfTransformer()\n",
    "X_train_tfidf = tfidf_transformer.fit_transform(X_train_counts)\n",
    "\n",
    "clf = LogisticRegression().fit(X_train_tfidf, y_train)"
   ]
  },
  {
   "cell_type": "code",
   "execution_count": 32,
   "metadata": {},
   "outputs": [
    {
     "data": {
      "text/plain": [
       "array([0.39902676, 0.40085158])"
      ]
     },
     "execution_count": 32,
     "metadata": {},
     "output_type": "execute_result"
    }
   ],
   "source": [
    "accuracy = cross_val_score(LogisticRegression(random_state=0), features, labels, scoring='accuracy', cv=2)\n",
    "accuracy"
   ]
  },
  {
   "cell_type": "code",
   "execution_count": null,
   "metadata": {},
   "outputs": [],
   "source": []
  }
 ],
 "metadata": {
  "kernelspec": {
   "display_name": "Python 3",
   "language": "python",
   "name": "python3"
  },
  "language_info": {
   "codemirror_mode": {
    "name": "ipython",
    "version": 3
   },
   "file_extension": ".py",
   "mimetype": "text/x-python",
   "name": "python",
   "nbconvert_exporter": "python",
   "pygments_lexer": "ipython3",
   "version": "3.8.3"
  }
 },
 "nbformat": 4,
 "nbformat_minor": 4
}
